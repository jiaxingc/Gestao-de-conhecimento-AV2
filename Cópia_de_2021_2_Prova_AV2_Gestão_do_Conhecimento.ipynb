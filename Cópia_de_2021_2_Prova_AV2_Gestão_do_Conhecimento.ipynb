{
  "nbformat": 4,
  "nbformat_minor": 0,
  "metadata": {
    "kernelspec": {
      "display_name": "Python 3",
      "language": "python",
      "name": "python3"
    },
    "language_info": {
      "codemirror_mode": {
        "name": "ipython",
        "version": 3
      },
      "file_extension": ".py",
      "mimetype": "text/x-python",
      "name": "python",
      "nbconvert_exporter": "python",
      "pygments_lexer": "ipython3",
      "version": "3.7.2"
    },
    "colab": {
      "name": "Cópia de 2021_2_Prova_AV2_Gestão_do_Conhecimento.ipynb",
      "provenance": [],
      "collapsed_sections": [],
      "toc_visible": true,
      "include_colab_link": true
    }
  },
  "cells": [
    {
      "cell_type": "markdown",
      "metadata": {
        "id": "view-in-github",
        "colab_type": "text"
      },
      "source": [
        "<a href=\"https://colab.research.google.com/github/jiaxingc/Gestao-de-conhecimento-AV2/blob/main/C%C3%B3pia_de_2021_2_Prova_AV2_Gesta%CC%83o_do_Conhecimento.ipynb\" target=\"_parent\"><img src=\"https://colab.research.google.com/assets/colab-badge.svg\" alt=\"Open In Colab\"/></a>"
      ]
    },
    {
      "cell_type": "markdown",
      "metadata": {
        "id": "8e6IcCsJCxVz"
      },
      "source": [
        "DISCIPLINA: Gestão do Conhecimento\t PROFESSOR(A): Alex Salgado\n",
        "PERÍODO: 7o. TURNO: noite AVALIAÇÃO:\n",
        "\n",
        "ALUNO(A): JIAXING CHEN, WILLIAN DOMINGUES, LORRAN TITO\n",
        "\n",
        "GRAU: VISTO DO PROFESSOR:\n"
      ]
    },
    {
      "cell_type": "markdown",
      "metadata": {
        "id": "_3h1pahVCxV2"
      },
      "source": [
        "# Questão 1 - valor (0,0)\n"
      ]
    },
    {
      "cell_type": "markdown",
      "metadata": {
        "id": "A-cj5d2rCxV3"
      },
      "source": [
        "*** Crie um repositório no Github e adicione este arquivo no mesmo\n",
        "\n",
        "\n",
        "1.1 - Você deve escolher uma base de dados do Kaggle.\n",
        "\n",
        "A natureza desse dataset deve se encaixar em um problema que podemos resolver utilizando modelos de previsão de machine learning supervisionado de classificação. \n",
        "\n",
        "A partir desta base de dados do Kaggle, você vai treinar o modelo, fazer previsões e calcular a acurácia do mesmo, usando modelos e algoritmos que desejar.\n",
        "\n",
        "Obs1: Usar o Kaggle como fonte para o seu dataset obrigatoriamente.\n",
        "Obs2: Implementações idênticas ou bem parecidas pode levar a anulação da NOTA ou seja, ZERO!! Faça o melhor com sua equipe apenas.\n"
      ]
    },
    {
      "cell_type": "code",
      "metadata": {
        "id": "MfhVnNHC52wF"
      },
      "source": [
        ""
      ],
      "execution_count": null,
      "outputs": []
    },
    {
      "cell_type": "markdown",
      "metadata": {
        "id": "3P5uSWxsDb5r"
      },
      "source": [
        "1.1 - Coloque aqui o link para o seu dataset escolhido no Kaggle.\n",
        "\n"
      ]
    },
    {
      "cell_type": "code",
      "metadata": {
        "id": "E5KjBhtQ0tT5"
      },
      "source": [
        "https://www.kaggle.com/bappymalik/delicious-cuisines-dataset-including-image-url/tasks"
      ],
      "execution_count": null,
      "outputs": []
    },
    {
      "cell_type": "markdown",
      "metadata": {
        "id": "9ZAK23bp0uiv"
      },
      "source": [
        "1.1.1 - Descreva sobre o que é base de dados."
      ]
    },
    {
      "cell_type": "code",
      "metadata": {
        "id": "GJXzGjne0xc3"
      },
      "source": [
        "#Conjuntos base de dados está coletando todas informações sobre receitas,\n",
        "#facilita pessoa com interesse de conzinhar."
      ],
      "execution_count": null,
      "outputs": []
    },
    {
      "cell_type": "markdown",
      "metadata": {
        "id": "PikuHGzs0xrS"
      },
      "source": [
        "1.1.2 - Se você fez em grupo, quais os nomes dos componentes do seu grupo?"
      ]
    },
    {
      "cell_type": "code",
      "metadata": {
        "id": "CWD182zJCxV4"
      },
      "source": [
        "#Lorran Matheus Silva Soares Tito, Willian Pereira Domingues e JiaXing Chen"
      ],
      "execution_count": null,
      "outputs": []
    },
    {
      "cell_type": "markdown",
      "metadata": {
        "id": "a-D7KRIzCxV8"
      },
      "source": [
        "1.2 - Após tratada, criar uma pasta no seu GoogleDrive e disponibilizar o link do arquivo de sua base (csv, xlsx, etc) para ser importado no seu código."
      ]
    },
    {
      "cell_type": "code",
      "metadata": {
        "colab": {
          "base_uri": "https://localhost:8080/"
        },
        "id": "79BaSUmOLoKg",
        "outputId": "60f6f5ff-2f88-4c6e-89be-0c250d34b404"
      },
      "source": [
        "from google.colab import drive\n",
        "drive.mount('/content/drive')"
      ],
      "execution_count": null,
      "outputs": [
        {
          "output_type": "stream",
          "name": "stdout",
          "text": [
            "Mounted at /content/drive\n"
          ]
        }
      ]
    },
    {
      "cell_type": "markdown",
      "metadata": {
        "id": "lvPXgDBDCxV_"
      },
      "source": [
        "## Criar um código usando o Jupyter Notebook e responder (através de código) às seguintes questões:\n"
      ]
    },
    {
      "cell_type": "markdown",
      "metadata": {
        "id": "LMkAEsOKCxWA"
      },
      "source": [
        "# Questão 2 - valor (1,5)"
      ]
    },
    {
      "cell_type": "markdown",
      "metadata": {
        "id": "yOSNQel0CxWA"
      },
      "source": [
        "2.1 - Importar os modulos python para machine learn e carregar o arquivo \n",
        "\n",
        "** Sugestão se for do tipo xlsx, usar o read_excel do pandas\n",
        "import pandas as pd\n",
        "dt = pd.read_excel(\"meuarquivo.xlsx\")\n"
      ]
    },
    {
      "cell_type": "code",
      "metadata": {
        "id": "1zjZp-NaPQWF"
      },
      "source": [
        "import pandas as pd"
      ],
      "execution_count": null,
      "outputs": []
    },
    {
      "cell_type": "code",
      "metadata": {
        "id": "zA6l-qg9CxWB"
      },
      "source": [
        "dc=pd.read_csv(\"/content/drive/MyDrive/Colab Notebooks/Gestão_do_Conhecimento_AV2/Conjunto de dados de culinárias deliciosas/data_cuisine.csv\")  "
      ],
      "execution_count": null,
      "outputs": []
    },
    {
      "cell_type": "code",
      "metadata": {
        "colab": {
          "base_uri": "https://localhost:8080/",
          "height": 1000
        },
        "id": "6mKKmoLVSmxJ",
        "outputId": "33a59d7f-5990-465c-d5dc-d0f10f436348"
      },
      "source": [
        "dc"
      ],
      "execution_count": null,
      "outputs": [
        {
          "output_type": "execute_result",
          "data": {
            "text/html": [
              "<div>\n",
              "<style scoped>\n",
              "    .dataframe tbody tr th:only-of-type {\n",
              "        vertical-align: middle;\n",
              "    }\n",
              "\n",
              "    .dataframe tbody tr th {\n",
              "        vertical-align: top;\n",
              "    }\n",
              "\n",
              "    .dataframe thead th {\n",
              "        text-align: right;\n",
              "    }\n",
              "</style>\n",
              "<table border=\"1\" class=\"dataframe\">\n",
              "  <thead>\n",
              "    <tr style=\"text-align: right;\">\n",
              "      <th></th>\n",
              "      <th>name</th>\n",
              "      <th>image_url</th>\n",
              "      <th>description</th>\n",
              "      <th>cuisine</th>\n",
              "      <th>course</th>\n",
              "      <th>diet</th>\n",
              "      <th>prep_time</th>\n",
              "      <th>instructions</th>\n",
              "      <th>image_available</th>\n",
              "    </tr>\n",
              "  </thead>\n",
              "  <tbody>\n",
              "    <tr>\n",
              "      <th>0</th>\n",
              "      <td>Doddapatre Tambuli Recipe (Karpooravalli Thayi...</td>\n",
              "      <td>https://www.archanaskitchen.com/images/archana...</td>\n",
              "      <td>Doddapatre Tambuli Recipe is a popular healing...</td>\n",
              "      <td>Indian</td>\n",
              "      <td>Side Dish</td>\n",
              "      <td>Vegetarian</td>\n",
              "      <td>Total in 30 M</td>\n",
              "      <td>To begin making the Doddapatre Tambuli, first ...</td>\n",
              "      <td>1</td>\n",
              "    </tr>\n",
              "    <tr>\n",
              "      <th>1</th>\n",
              "      <td>Fish Tandoori Recipe</td>\n",
              "      <td>https://www.archanaskitchen.com/images/archana...</td>\n",
              "      <td>Have you ever tried out fish tandoori? Trust m...</td>\n",
              "      <td>North Indian Recipes</td>\n",
              "      <td>Appetizer</td>\n",
              "      <td>High Protein Non Vegetarian</td>\n",
              "      <td>Total in 80 M</td>\n",
              "      <td>To begin making the Fish Tandoori recipe, keep...</td>\n",
              "      <td>1</td>\n",
              "    </tr>\n",
              "    <tr>\n",
              "      <th>2</th>\n",
              "      <td>Arbi Shimla Mirch Sabzi Recipe – Colocasia Cap...</td>\n",
              "      <td>https://www.archanaskitchen.com/images/archana...</td>\n",
              "      <td>Arbi Shimla Mirch Sabzi Recipe is a variation ...</td>\n",
              "      <td>North Indian Recipes</td>\n",
              "      <td>Main Course</td>\n",
              "      <td>No Onion No Garlic (Sattvic)</td>\n",
              "      <td>Total in 55 M</td>\n",
              "      <td>To begin making the Arbi Shimla Mirch Sabzi Re...</td>\n",
              "      <td>1</td>\n",
              "    </tr>\n",
              "    <tr>\n",
              "      <th>3</th>\n",
              "      <td>Ambur Style Brinjal Curry Recipe</td>\n",
              "      <td>https://www.archanaskitchen.com/images/archana...</td>\n",
              "      <td>Brinjal Curry is prepared in different ways in...</td>\n",
              "      <td>Indian</td>\n",
              "      <td>Lunch</td>\n",
              "      <td>Vegetarian</td>\n",
              "      <td>Total in 20 M</td>\n",
              "      <td>To begin making the Ambur Style Brinjal Curry ...</td>\n",
              "      <td>1</td>\n",
              "    </tr>\n",
              "    <tr>\n",
              "      <th>4</th>\n",
              "      <td>Mavinakayi Menasinakai Curry Recipe  - Raw Man...</td>\n",
              "      <td>https://www.archanaskitchen.com/images/archana...</td>\n",
              "      <td>Mangalorean Mavinakayi Menasinakai Curry Recip...</td>\n",
              "      <td>Mangalorean</td>\n",
              "      <td>Side Dish</td>\n",
              "      <td>Vegetarian</td>\n",
              "      <td>Total in 35 M</td>\n",
              "      <td>To begin making Mangalorean Mavinakayi Menasin...</td>\n",
              "      <td>1</td>\n",
              "    </tr>\n",
              "    <tr>\n",
              "      <th>...</th>\n",
              "      <td>...</td>\n",
              "      <td>...</td>\n",
              "      <td>...</td>\n",
              "      <td>...</td>\n",
              "      <td>...</td>\n",
              "      <td>...</td>\n",
              "      <td>...</td>\n",
              "      <td>...</td>\n",
              "      <td>...</td>\n",
              "    </tr>\n",
              "    <tr>\n",
              "      <th>4461</th>\n",
              "      <td>Tamil Nadu Style Vazha Thandu Thogayal Recipe ...</td>\n",
              "      <td>https://www.archanaskitchen.com/images/archana...</td>\n",
              "      <td>Tamil Nadu Style Vazha Thandu Thogayal Recipe ...</td>\n",
              "      <td>Tamil Nadu</td>\n",
              "      <td>Side Dish</td>\n",
              "      <td>Vegetarian</td>\n",
              "      <td>Total in 40 M</td>\n",
              "      <td>We begin making the Tamil Nadu Style Vazha Tha...</td>\n",
              "      <td>1</td>\n",
              "    </tr>\n",
              "    <tr>\n",
              "      <th>4462</th>\n",
              "      <td>Kondakadalai Vazhathandu Puli Thengai Kuzhambu...</td>\n",
              "      <td>https://www.archanaskitchen.com/images/archana...</td>\n",
              "      <td>Kondakadalai Vazhathandu Puli Thengai Kuzhambu...</td>\n",
              "      <td>Tamil Nadu</td>\n",
              "      <td>Main Course</td>\n",
              "      <td>Diabetic Friendly</td>\n",
              "      <td>Total in 530 M</td>\n",
              "      <td>We begin making the Kondakadalai Vazhathandu P...</td>\n",
              "      <td>1</td>\n",
              "    </tr>\n",
              "    <tr>\n",
              "      <th>4463</th>\n",
              "      <td>Besan &amp; Atta Ki Roti Recipe (Chickpea Flatbread)</td>\n",
              "      <td>https://www.archanaskitchen.com/images/archana...</td>\n",
              "      <td>The Besan &amp; Atta Ki Roti Recipe is a delicious...</td>\n",
              "      <td>Indian</td>\n",
              "      <td>Dinner</td>\n",
              "      <td>Vegetarian</td>\n",
              "      <td>Total in 40 M</td>\n",
              "      <td>To begin making the Besan &amp; Atta Ki Roti Recip...</td>\n",
              "      <td>1</td>\n",
              "    </tr>\n",
              "    <tr>\n",
              "      <th>4464</th>\n",
              "      <td>Cauliflower And Methi Paratha Recipe</td>\n",
              "      <td>https://www.archanaskitchen.com/images/archana...</td>\n",
              "      <td>Cauliflower And Methi Paratha is a perfect bre...</td>\n",
              "      <td>Indian</td>\n",
              "      <td>Indian Breakfast</td>\n",
              "      <td>Vegetarian</td>\n",
              "      <td>Total in 60 M</td>\n",
              "      <td>To begin with Cauliflower And Methi Paratha Re...</td>\n",
              "      <td>1</td>\n",
              "    </tr>\n",
              "    <tr>\n",
              "      <th>4465</th>\n",
              "      <td>Dal Chenchki ( Red Lentils with Shallots)</td>\n",
              "      <td>https://www.archanaskitchen.com/images/archana...</td>\n",
              "      <td>The Dal Chenchki is a recipe from Bengal, a st...</td>\n",
              "      <td>Bengali Recipes</td>\n",
              "      <td>Dinner</td>\n",
              "      <td>High Protein Vegetarian</td>\n",
              "      <td>Total in 40 M</td>\n",
              "      <td>To begin making the Dal Chenchki Recipe, I wil...</td>\n",
              "      <td>1</td>\n",
              "    </tr>\n",
              "  </tbody>\n",
              "</table>\n",
              "<p>4466 rows × 9 columns</p>\n",
              "</div>"
            ],
            "text/plain": [
              "                                                   name  ... image_available\n",
              "0     Doddapatre Tambuli Recipe (Karpooravalli Thayi...  ...               1\n",
              "1                                  Fish Tandoori Recipe  ...               1\n",
              "2     Arbi Shimla Mirch Sabzi Recipe – Colocasia Cap...  ...               1\n",
              "3                      Ambur Style Brinjal Curry Recipe  ...               1\n",
              "4     Mavinakayi Menasinakai Curry Recipe  - Raw Man...  ...               1\n",
              "...                                                 ...  ...             ...\n",
              "4461  Tamil Nadu Style Vazha Thandu Thogayal Recipe ...  ...               1\n",
              "4462  Kondakadalai Vazhathandu Puli Thengai Kuzhambu...  ...               1\n",
              "4463   Besan & Atta Ki Roti Recipe (Chickpea Flatbread)  ...               1\n",
              "4464               Cauliflower And Methi Paratha Recipe  ...               1\n",
              "4465          Dal Chenchki ( Red Lentils with Shallots)  ...               1\n",
              "\n",
              "[4466 rows x 9 columns]"
            ]
          },
          "metadata": {},
          "execution_count": 5
        }
      ]
    },
    {
      "cell_type": "markdown",
      "metadata": {
        "id": "_NIYxnZnCxWD"
      },
      "source": [
        "2.2 - Exibir os primeiros registros desta tabela.\n"
      ]
    },
    {
      "cell_type": "code",
      "metadata": {
        "id": "owd5CVN9CxWE",
        "colab": {
          "base_uri": "https://localhost:8080/",
          "height": 556
        },
        "outputId": "8e7c780a-65c3-4221-bd67-5dfaa1faa6a7"
      },
      "source": [
        "dc.head()"
      ],
      "execution_count": null,
      "outputs": [
        {
          "output_type": "execute_result",
          "data": {
            "text/html": [
              "<div>\n",
              "<style scoped>\n",
              "    .dataframe tbody tr th:only-of-type {\n",
              "        vertical-align: middle;\n",
              "    }\n",
              "\n",
              "    .dataframe tbody tr th {\n",
              "        vertical-align: top;\n",
              "    }\n",
              "\n",
              "    .dataframe thead th {\n",
              "        text-align: right;\n",
              "    }\n",
              "</style>\n",
              "<table border=\"1\" class=\"dataframe\">\n",
              "  <thead>\n",
              "    <tr style=\"text-align: right;\">\n",
              "      <th></th>\n",
              "      <th>name</th>\n",
              "      <th>image_url</th>\n",
              "      <th>description</th>\n",
              "      <th>cuisine</th>\n",
              "      <th>course</th>\n",
              "      <th>diet</th>\n",
              "      <th>prep_time</th>\n",
              "      <th>instructions</th>\n",
              "      <th>image_available</th>\n",
              "    </tr>\n",
              "  </thead>\n",
              "  <tbody>\n",
              "    <tr>\n",
              "      <th>0</th>\n",
              "      <td>Doddapatre Tambuli Recipe (Karpooravalli Thayi...</td>\n",
              "      <td>https://www.archanaskitchen.com/images/archana...</td>\n",
              "      <td>Doddapatre Tambuli Recipe is a popular healing...</td>\n",
              "      <td>Indian</td>\n",
              "      <td>Side Dish</td>\n",
              "      <td>Vegetarian</td>\n",
              "      <td>Total in 30 M</td>\n",
              "      <td>To begin making the Doddapatre Tambuli, first ...</td>\n",
              "      <td>1</td>\n",
              "    </tr>\n",
              "    <tr>\n",
              "      <th>1</th>\n",
              "      <td>Fish Tandoori Recipe</td>\n",
              "      <td>https://www.archanaskitchen.com/images/archana...</td>\n",
              "      <td>Have you ever tried out fish tandoori? Trust m...</td>\n",
              "      <td>North Indian Recipes</td>\n",
              "      <td>Appetizer</td>\n",
              "      <td>High Protein Non Vegetarian</td>\n",
              "      <td>Total in 80 M</td>\n",
              "      <td>To begin making the Fish Tandoori recipe, keep...</td>\n",
              "      <td>1</td>\n",
              "    </tr>\n",
              "    <tr>\n",
              "      <th>2</th>\n",
              "      <td>Arbi Shimla Mirch Sabzi Recipe – Colocasia Cap...</td>\n",
              "      <td>https://www.archanaskitchen.com/images/archana...</td>\n",
              "      <td>Arbi Shimla Mirch Sabzi Recipe is a variation ...</td>\n",
              "      <td>North Indian Recipes</td>\n",
              "      <td>Main Course</td>\n",
              "      <td>No Onion No Garlic (Sattvic)</td>\n",
              "      <td>Total in 55 M</td>\n",
              "      <td>To begin making the Arbi Shimla Mirch Sabzi Re...</td>\n",
              "      <td>1</td>\n",
              "    </tr>\n",
              "    <tr>\n",
              "      <th>3</th>\n",
              "      <td>Ambur Style Brinjal Curry Recipe</td>\n",
              "      <td>https://www.archanaskitchen.com/images/archana...</td>\n",
              "      <td>Brinjal Curry is prepared in different ways in...</td>\n",
              "      <td>Indian</td>\n",
              "      <td>Lunch</td>\n",
              "      <td>Vegetarian</td>\n",
              "      <td>Total in 20 M</td>\n",
              "      <td>To begin making the Ambur Style Brinjal Curry ...</td>\n",
              "      <td>1</td>\n",
              "    </tr>\n",
              "    <tr>\n",
              "      <th>4</th>\n",
              "      <td>Mavinakayi Menasinakai Curry Recipe  - Raw Man...</td>\n",
              "      <td>https://www.archanaskitchen.com/images/archana...</td>\n",
              "      <td>Mangalorean Mavinakayi Menasinakai Curry Recip...</td>\n",
              "      <td>Mangalorean</td>\n",
              "      <td>Side Dish</td>\n",
              "      <td>Vegetarian</td>\n",
              "      <td>Total in 35 M</td>\n",
              "      <td>To begin making Mangalorean Mavinakayi Menasin...</td>\n",
              "      <td>1</td>\n",
              "    </tr>\n",
              "  </tbody>\n",
              "</table>\n",
              "</div>"
            ],
            "text/plain": [
              "                                                name  ... image_available\n",
              "0  Doddapatre Tambuli Recipe (Karpooravalli Thayi...  ...               1\n",
              "1                               Fish Tandoori Recipe  ...               1\n",
              "2  Arbi Shimla Mirch Sabzi Recipe – Colocasia Cap...  ...               1\n",
              "3                   Ambur Style Brinjal Curry Recipe  ...               1\n",
              "4  Mavinakayi Menasinakai Curry Recipe  - Raw Man...  ...               1\n",
              "\n",
              "[5 rows x 9 columns]"
            ]
          },
          "metadata": {},
          "execution_count": 6
        }
      ]
    },
    {
      "cell_type": "markdown",
      "metadata": {
        "id": "ROM2Hy1CCxWG"
      },
      "source": [
        "2.3 - De que se trata esse banco de dados? e que tipo de previsão pode ser feito com ele?\n"
      ]
    },
    {
      "cell_type": "code",
      "metadata": {
        "id": "Xh68K5SjCxWH"
      },
      "source": [
        "#É banco de dado sobre comida,tipo de previsão é fornecer ingredientes e receita de um prato."
      ],
      "execution_count": null,
      "outputs": []
    },
    {
      "cell_type": "markdown",
      "metadata": {
        "id": "1lCf85KKCxWJ"
      },
      "source": [
        "# Questão 3 - valor (2,5)\n"
      ]
    },
    {
      "cell_type": "markdown",
      "metadata": {
        "id": "isyZsq2NCxWK"
      },
      "source": [
        "Utilizando as terminologias de Machine Learning(features e observações):\n",
        "\n"
      ]
    },
    {
      "cell_type": "markdown",
      "metadata": {
        "id": "pbuaWyeECxWL"
      },
      "source": [
        "3.1 - Quantas \"features\" têm nessa base de dados?"
      ]
    },
    {
      "cell_type": "code",
      "metadata": {
        "id": "MY5Xwd0gCxWL"
      },
      "source": [
        "#9 features"
      ],
      "execution_count": null,
      "outputs": []
    },
    {
      "cell_type": "markdown",
      "metadata": {
        "id": "RtwxkASmCxWN"
      },
      "source": [
        "3.2 - Quantas observações têm nessa base de dados?\n"
      ]
    },
    {
      "cell_type": "code",
      "metadata": {
        "id": "yN1QNvh-CxWO"
      },
      "source": [
        "#4466 linhas"
      ],
      "execution_count": null,
      "outputs": []
    },
    {
      "cell_type": "markdown",
      "metadata": {
        "id": "tcAYZJP8zlX3"
      },
      "source": [
        "3.3 - Separe o que é entrada (features) do seu dataset na variável X, e exiba."
      ]
    },
    {
      "cell_type": "code",
      "metadata": {
        "id": "sntqiY6UzuaT",
        "colab": {
          "base_uri": "https://localhost:8080/",
          "height": 1000
        },
        "outputId": "a4f294bf-c51e-47fb-a778-3def91cd6559"
      },
      "source": [
        "X = dc.drop(['image_available'], axis=1)\n",
        "X"
      ],
      "execution_count": null,
      "outputs": [
        {
          "output_type": "execute_result",
          "data": {
            "text/html": [
              "<div>\n",
              "<style scoped>\n",
              "    .dataframe tbody tr th:only-of-type {\n",
              "        vertical-align: middle;\n",
              "    }\n",
              "\n",
              "    .dataframe tbody tr th {\n",
              "        vertical-align: top;\n",
              "    }\n",
              "\n",
              "    .dataframe thead th {\n",
              "        text-align: right;\n",
              "    }\n",
              "</style>\n",
              "<table border=\"1\" class=\"dataframe\">\n",
              "  <thead>\n",
              "    <tr style=\"text-align: right;\">\n",
              "      <th></th>\n",
              "      <th>name</th>\n",
              "      <th>image_url</th>\n",
              "      <th>description</th>\n",
              "      <th>cuisine</th>\n",
              "      <th>course</th>\n",
              "      <th>diet</th>\n",
              "      <th>prep_time</th>\n",
              "      <th>instructions</th>\n",
              "    </tr>\n",
              "  </thead>\n",
              "  <tbody>\n",
              "    <tr>\n",
              "      <th>0</th>\n",
              "      <td>Doddapatre Tambuli Recipe (Karpooravalli Thayi...</td>\n",
              "      <td>https://www.archanaskitchen.com/images/archana...</td>\n",
              "      <td>Doddapatre Tambuli Recipe is a popular healing...</td>\n",
              "      <td>Indian</td>\n",
              "      <td>Side Dish</td>\n",
              "      <td>Vegetarian</td>\n",
              "      <td>Total in 30 M</td>\n",
              "      <td>To begin making the Doddapatre Tambuli, first ...</td>\n",
              "    </tr>\n",
              "    <tr>\n",
              "      <th>1</th>\n",
              "      <td>Fish Tandoori Recipe</td>\n",
              "      <td>https://www.archanaskitchen.com/images/archana...</td>\n",
              "      <td>Have you ever tried out fish tandoori? Trust m...</td>\n",
              "      <td>North Indian Recipes</td>\n",
              "      <td>Appetizer</td>\n",
              "      <td>High Protein Non Vegetarian</td>\n",
              "      <td>Total in 80 M</td>\n",
              "      <td>To begin making the Fish Tandoori recipe, keep...</td>\n",
              "    </tr>\n",
              "    <tr>\n",
              "      <th>2</th>\n",
              "      <td>Arbi Shimla Mirch Sabzi Recipe – Colocasia Cap...</td>\n",
              "      <td>https://www.archanaskitchen.com/images/archana...</td>\n",
              "      <td>Arbi Shimla Mirch Sabzi Recipe is a variation ...</td>\n",
              "      <td>North Indian Recipes</td>\n",
              "      <td>Main Course</td>\n",
              "      <td>No Onion No Garlic (Sattvic)</td>\n",
              "      <td>Total in 55 M</td>\n",
              "      <td>To begin making the Arbi Shimla Mirch Sabzi Re...</td>\n",
              "    </tr>\n",
              "    <tr>\n",
              "      <th>3</th>\n",
              "      <td>Ambur Style Brinjal Curry Recipe</td>\n",
              "      <td>https://www.archanaskitchen.com/images/archana...</td>\n",
              "      <td>Brinjal Curry is prepared in different ways in...</td>\n",
              "      <td>Indian</td>\n",
              "      <td>Lunch</td>\n",
              "      <td>Vegetarian</td>\n",
              "      <td>Total in 20 M</td>\n",
              "      <td>To begin making the Ambur Style Brinjal Curry ...</td>\n",
              "    </tr>\n",
              "    <tr>\n",
              "      <th>4</th>\n",
              "      <td>Mavinakayi Menasinakai Curry Recipe  - Raw Man...</td>\n",
              "      <td>https://www.archanaskitchen.com/images/archana...</td>\n",
              "      <td>Mangalorean Mavinakayi Menasinakai Curry Recip...</td>\n",
              "      <td>Mangalorean</td>\n",
              "      <td>Side Dish</td>\n",
              "      <td>Vegetarian</td>\n",
              "      <td>Total in 35 M</td>\n",
              "      <td>To begin making Mangalorean Mavinakayi Menasin...</td>\n",
              "    </tr>\n",
              "    <tr>\n",
              "      <th>...</th>\n",
              "      <td>...</td>\n",
              "      <td>...</td>\n",
              "      <td>...</td>\n",
              "      <td>...</td>\n",
              "      <td>...</td>\n",
              "      <td>...</td>\n",
              "      <td>...</td>\n",
              "      <td>...</td>\n",
              "    </tr>\n",
              "    <tr>\n",
              "      <th>4461</th>\n",
              "      <td>Tamil Nadu Style Vazha Thandu Thogayal Recipe ...</td>\n",
              "      <td>https://www.archanaskitchen.com/images/archana...</td>\n",
              "      <td>Tamil Nadu Style Vazha Thandu Thogayal Recipe ...</td>\n",
              "      <td>Tamil Nadu</td>\n",
              "      <td>Side Dish</td>\n",
              "      <td>Vegetarian</td>\n",
              "      <td>Total in 40 M</td>\n",
              "      <td>We begin making the Tamil Nadu Style Vazha Tha...</td>\n",
              "    </tr>\n",
              "    <tr>\n",
              "      <th>4462</th>\n",
              "      <td>Kondakadalai Vazhathandu Puli Thengai Kuzhambu...</td>\n",
              "      <td>https://www.archanaskitchen.com/images/archana...</td>\n",
              "      <td>Kondakadalai Vazhathandu Puli Thengai Kuzhambu...</td>\n",
              "      <td>Tamil Nadu</td>\n",
              "      <td>Main Course</td>\n",
              "      <td>Diabetic Friendly</td>\n",
              "      <td>Total in 530 M</td>\n",
              "      <td>We begin making the Kondakadalai Vazhathandu P...</td>\n",
              "    </tr>\n",
              "    <tr>\n",
              "      <th>4463</th>\n",
              "      <td>Besan &amp; Atta Ki Roti Recipe (Chickpea Flatbread)</td>\n",
              "      <td>https://www.archanaskitchen.com/images/archana...</td>\n",
              "      <td>The Besan &amp; Atta Ki Roti Recipe is a delicious...</td>\n",
              "      <td>Indian</td>\n",
              "      <td>Dinner</td>\n",
              "      <td>Vegetarian</td>\n",
              "      <td>Total in 40 M</td>\n",
              "      <td>To begin making the Besan &amp; Atta Ki Roti Recip...</td>\n",
              "    </tr>\n",
              "    <tr>\n",
              "      <th>4464</th>\n",
              "      <td>Cauliflower And Methi Paratha Recipe</td>\n",
              "      <td>https://www.archanaskitchen.com/images/archana...</td>\n",
              "      <td>Cauliflower And Methi Paratha is a perfect bre...</td>\n",
              "      <td>Indian</td>\n",
              "      <td>Indian Breakfast</td>\n",
              "      <td>Vegetarian</td>\n",
              "      <td>Total in 60 M</td>\n",
              "      <td>To begin with Cauliflower And Methi Paratha Re...</td>\n",
              "    </tr>\n",
              "    <tr>\n",
              "      <th>4465</th>\n",
              "      <td>Dal Chenchki ( Red Lentils with Shallots)</td>\n",
              "      <td>https://www.archanaskitchen.com/images/archana...</td>\n",
              "      <td>The Dal Chenchki is a recipe from Bengal, a st...</td>\n",
              "      <td>Bengali Recipes</td>\n",
              "      <td>Dinner</td>\n",
              "      <td>High Protein Vegetarian</td>\n",
              "      <td>Total in 40 M</td>\n",
              "      <td>To begin making the Dal Chenchki Recipe, I wil...</td>\n",
              "    </tr>\n",
              "  </tbody>\n",
              "</table>\n",
              "<p>4466 rows × 8 columns</p>\n",
              "</div>"
            ],
            "text/plain": [
              "                                                   name  ...                                       instructions\n",
              "0     Doddapatre Tambuli Recipe (Karpooravalli Thayi...  ...  To begin making the Doddapatre Tambuli, first ...\n",
              "1                                  Fish Tandoori Recipe  ...  To begin making the Fish Tandoori recipe, keep...\n",
              "2     Arbi Shimla Mirch Sabzi Recipe – Colocasia Cap...  ...  To begin making the Arbi Shimla Mirch Sabzi Re...\n",
              "3                      Ambur Style Brinjal Curry Recipe  ...  To begin making the Ambur Style Brinjal Curry ...\n",
              "4     Mavinakayi Menasinakai Curry Recipe  - Raw Man...  ...  To begin making Mangalorean Mavinakayi Menasin...\n",
              "...                                                 ...  ...                                                ...\n",
              "4461  Tamil Nadu Style Vazha Thandu Thogayal Recipe ...  ...  We begin making the Tamil Nadu Style Vazha Tha...\n",
              "4462  Kondakadalai Vazhathandu Puli Thengai Kuzhambu...  ...  We begin making the Kondakadalai Vazhathandu P...\n",
              "4463   Besan & Atta Ki Roti Recipe (Chickpea Flatbread)  ...  To begin making the Besan & Atta Ki Roti Recip...\n",
              "4464               Cauliflower And Methi Paratha Recipe  ...  To begin with Cauliflower And Methi Paratha Re...\n",
              "4465          Dal Chenchki ( Red Lentils with Shallots)  ...  To begin making the Dal Chenchki Recipe, I wil...\n",
              "\n",
              "[4466 rows x 8 columns]"
            ]
          },
          "metadata": {},
          "execution_count": 7
        }
      ]
    },
    {
      "cell_type": "markdown",
      "metadata": {
        "id": "FkA2G20zzvHX"
      },
      "source": [
        "3.4 - Separe o que é saída (target/resposta) do seu dataset na variável y, e exiba."
      ]
    },
    {
      "cell_type": "code",
      "metadata": {
        "id": "scWmkISnzj3i",
        "colab": {
          "base_uri": "https://localhost:8080/"
        },
        "outputId": "50166c91-0384-4b3f-adf7-b7856cf08e8a"
      },
      "source": [
        "y = dc['image_available']\n",
        "y"
      ],
      "execution_count": null,
      "outputs": [
        {
          "output_type": "execute_result",
          "data": {
            "text/plain": [
              "0       1\n",
              "1       1\n",
              "2       1\n",
              "3       1\n",
              "4       1\n",
              "       ..\n",
              "4461    1\n",
              "4462    1\n",
              "4463    1\n",
              "4464    1\n",
              "4465    1\n",
              "Name: image_available, Length: 4466, dtype: int64"
            ]
          },
          "metadata": {},
          "execution_count": 8
        }
      ]
    },
    {
      "cell_type": "markdown",
      "metadata": {
        "id": "AudYWfr1CxWQ"
      },
      "source": [
        "# Questão 4 - valor (1,5)\n"
      ]
    },
    {
      "cell_type": "markdown",
      "metadata": {
        "id": "pJxRMc1HCxWR"
      },
      "source": [
        "4.1 - Utilizando a sua base, faça um treinamento e uma previsão, usando o algoritmo de clsssificação de sua escolha.\n"
      ]
    },
    {
      "cell_type": "code",
      "metadata": {
        "id": "Tu7ZKtSkCxWS"
      },
      "source": [
        ""
      ],
      "execution_count": null,
      "outputs": []
    },
    {
      "cell_type": "markdown",
      "metadata": {
        "id": "xbpLvAhTCxWU"
      },
      "source": [
        "# Questão 5 - valor (1,5)\n",
        "\n",
        "\n",
        "\n"
      ]
    },
    {
      "cell_type": "code",
      "metadata": {
        "id": "0r7i8IsFxoQp"
      },
      "source": [
        ""
      ],
      "execution_count": null,
      "outputs": []
    },
    {
      "cell_type": "markdown",
      "metadata": {
        "id": "cp4fWsL7CxWU"
      },
      "source": [
        "Usando o método de avaliação de acurácia (Train test split), Escolha outros 2 algoritmos de classificação e calcule a acurácia dos mesmos."
      ]
    },
    {
      "cell_type": "code",
      "metadata": {
        "id": "oLfhvN4ShEhD"
      },
      "source": [
        "from sklearn.model_selection import train_test_split"
      ],
      "execution_count": null,
      "outputs": []
    },
    {
      "cell_type": "code",
      "metadata": {
        "id": "lrbq0-cgoC99"
      },
      "source": [
        "import torch"
      ],
      "execution_count": null,
      "outputs": []
    },
    {
      "cell_type": "code",
      "metadata": {
        "id": "dltj9VMErCqb"
      },
      "source": [
        "train_size = int(len(dc) * 0.8)\n",
        "valid_size = len(dc) - train_size"
      ],
      "execution_count": null,
      "outputs": []
    },
    {
      "cell_type": "code",
      "metadata": {
        "id": "1UdpHUDTrrru"
      },
      "source": [
        "train_data,test_data=torch.utils.data.random_split(dc,[train_size, valid_size])"
      ],
      "execution_count": null,
      "outputs": []
    },
    {
      "cell_type": "code",
      "metadata": {
        "colab": {
          "base_uri": "https://localhost:8080/"
        },
        "id": "MWacd8PYhQwy",
        "outputId": "692762f9-9cca-4d14-a3a0-6e964c620a5c"
      },
      "source": [
        "print(len(train_data),len(test_data))"
      ],
      "execution_count": null,
      "outputs": [
        {
          "output_type": "stream",
          "name": "stdout",
          "text": [
            "3572 894\n"
          ]
        }
      ]
    },
    {
      "cell_type": "markdown",
      "metadata": {
        "id": "mNmy44xfCxWY"
      },
      "source": [
        "5.2 - Acurácia usando o algoritmo 1 ?\n"
      ]
    },
    {
      "cell_type": "code",
      "metadata": {
        "id": "caGkCtYGCxWY"
      },
      "source": [
        ""
      ],
      "execution_count": null,
      "outputs": []
    },
    {
      "cell_type": "markdown",
      "metadata": {
        "id": "3xUZm_JICxWa"
      },
      "source": [
        "5.3 - Acurácia usando o algoritmo 2 ?\n",
        "\n",
        "\n",
        "\n"
      ]
    },
    {
      "cell_type": "code",
      "metadata": {
        "id": "VvAgNcVsCxWb"
      },
      "source": [
        ""
      ],
      "execution_count": null,
      "outputs": []
    },
    {
      "cell_type": "markdown",
      "metadata": {
        "id": "8FkyIUHbCxWd"
      },
      "source": [
        "5.4 - De acordo com seus resultados anteriores, qual dos 2 algoritmos é mais eficiente?\n"
      ]
    },
    {
      "cell_type": "code",
      "metadata": {
        "id": "K0AE8XQ1CxWd"
      },
      "source": [
        ""
      ],
      "execution_count": null,
      "outputs": []
    },
    {
      "cell_type": "markdown",
      "metadata": {
        "id": "QIAfJToiy77F"
      },
      "source": [
        "# Questão 6 - valor (1,5)\n",
        "\n"
      ]
    },
    {
      "cell_type": "markdown",
      "metadata": {
        "id": "Is2wXGy3ySgF"
      },
      "source": [
        "6 - Faça um visualização auto-explicativa da sua base de dados utilizando o matplotlib. Coloque o código e a visualização abaixo.\n"
      ]
    },
    {
      "cell_type": "code",
      "metadata": {
        "id": "DdlmwhZlyi_7"
      },
      "source": [
        "import matplotlib.pyplot as plt "
      ],
      "execution_count": null,
      "outputs": []
    },
    {
      "cell_type": "code",
      "metadata": {
        "id": "9MOJ85zOMaV8"
      },
      "source": [
        "qtd_tipo=dc['diet'].value_counts() "
      ],
      "execution_count": null,
      "outputs": []
    },
    {
      "cell_type": "code",
      "metadata": {
        "colab": {
          "base_uri": "https://localhost:8080/"
        },
        "id": "xGN0CuYkODeb",
        "outputId": "bd2c0782-e525-4b16-dc87-93061d2b30c6"
      },
      "source": [
        "qtd_tipo"
      ],
      "execution_count": null,
      "outputs": [
        {
          "output_type": "execute_result",
          "data": {
            "text/plain": [
              "Vegetarian                      3015\n",
              "High Protein Vegetarian          539\n",
              "Diabetic Friendly                253\n",
              "Non Vegeterian                   252\n",
              "High Protein Non Vegetarian      141\n",
              "Eggetarian                        96\n",
              "No Onion No Garlic (Sattvic)      63\n",
              "Gluten Free                       38\n",
              "Vegan                             27\n",
              "Name: diet, dtype: int64"
            ]
          },
          "metadata": {},
          "execution_count": 48
        }
      ]
    },
    {
      "cell_type": "code",
      "metadata": {
        "id": "eKzqOHH9LTiN"
      },
      "source": [
        "x=['V','HPV','DF','NV','HPNV','E','NONG','GF','Vegan'] "
      ],
      "execution_count": null,
      "outputs": []
    },
    {
      "cell_type": "code",
      "metadata": {
        "id": "4eM7oCIS9KmI"
      },
      "source": [
        "y=[20,30,40,50,60,70,80,90,100]"
      ],
      "execution_count": null,
      "outputs": []
    },
    {
      "cell_type": "code",
      "metadata": {
        "colab": {
          "base_uri": "https://localhost:8080/",
          "height": 298
        },
        "id": "XjRoTwcDG1fJ",
        "outputId": "26dec527-38a6-47c0-f057-8dceacd0c309"
      },
      "source": [
        "plt.plot(x=\"Tipo de diet\",qtd_tipo=\"quantidade\")\n",
        "\n",
        "plt.title(\"Todos tipos de diet e Quantidade\")"
      ],
      "execution_count": null,
      "outputs": [
        {
          "output_type": "execute_result",
          "data": {
            "text/plain": [
              "Text(0.5, 1.0, 'Todos tipos de diet e Quantidade')"
            ]
          },
          "metadata": {},
          "execution_count": 66
        },
        {
          "output_type": "display_data",
          "data": {
            "image/png": "[encoded data removed]",
            "text/plain": [
              "<Figure size 432x288 with 1 Axes>"
            ]
          },
          "metadata": {
            "needs_background": "light"
          }
        }
      ]
    },
    {
      "cell_type": "code",
      "metadata": {
        "colab": {
          "base_uri": "https://localhost:8080/",
          "height": 298
        },
        "id": "_cTLGht0VKF9",
        "outputId": "935351e7-5791-4404-d29c-a750f74ad316"
      },
      "source": [
        "plt.plot(y,qtd_tipo,color='pink')\n",
        "plt.title(\"Tempo de cozimento de tipo diet\")"
      ],
      "execution_count": null,
      "outputs": [
        {
          "output_type": "execute_result",
          "data": {
            "text/plain": [
              "Text(0.5, 1.0, 'Tempo de cozimento de tipo diet')"
            ]
          },
          "metadata": {},
          "execution_count": 69
        },
        {
          "output_type": "display_data",
          "data": {
            "image/png": "[encoded data removed]",
            "text/plain": [
              "<Figure size 432x288 with 1 Axes>"
            ]
          },
          "metadata": {
            "needs_background": "light"
          }
        }
      ]
    },
    {
      "cell_type": "code",
      "metadata": {
        "id": "uSYyxUJX-Q_v"
      },
      "source": [
        "plt.show()"
      ],
      "execution_count": null,
      "outputs": []
    },
    {
      "cell_type": "code",
      "metadata": {
        "id": "zRDUIRloCxWf"
      },
      "source": [
        "*** Envie o link do seu Github com essa resposta no Classroom\n"
      ],
      "execution_count": null,
      "outputs": []
    }
  ]
}